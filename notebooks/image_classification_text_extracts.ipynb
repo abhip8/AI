{
  "cells": [
    {
      "cell_type": "code",
      "execution_count": null,
      "id": "dae8c8ce",
      "metadata": {
        "id": "dae8c8ce"
      },
      "outputs": [],
      "source": [
        "import os\n",
        "from glob import glob # extract path of each file\n",
        "import pandas as pd # data preprocessing\n",
        "from xml.etree import ElementTree as et # parse information from XML\n",
        "from functools import reduce"
      ]
    },
    {
      "cell_type": "code",
      "execution_count": null,
      "id": "e6765cbd",
      "metadata": {
        "id": "e6765cbd"
      },
      "outputs": [],
      "source": [
        "import warnings\n",
        "warnings.filterwarnings('ignore')"
      ]
    },
    {
      "cell_type": "code",
      "execution_count": null,
      "id": "12e403f7",
      "metadata": {
        "id": "12e403f7"
      },
      "outputs": [],
      "source": [
        "# step-1: get path of each xml file\n",
        "xmlfiles = glob('./data_images/*.xml')\n",
        "# replace \\\\ with /\n",
        "replace_text = lambda x: x.replace('\\\\','/')\n",
        "xmlfiles = list(map(replace_text,xmlfiles))"
      ]
    },
    {
      "cell_type": "code",
      "execution_count": null,
      "id": "2fdb0bdf",
      "metadata": {
        "id": "2fdb0bdf"
      },
      "outputs": [],
      "source": [
        "xmlfiles"
      ]
    },
    {
      "cell_type": "code",
      "execution_count": null,
      "id": "637406f6",
      "metadata": {
        "id": "637406f6"
      },
      "outputs": [],
      "source": [
        "# step-2: read xml files\n",
        "# from each xml file we need to extract\n",
        "# filename, size(width, height), object(name, xmin, xmax, ymin, ymax)\n",
        "def extract_text(filename):\n",
        "    tree = et.parse(filename)\n",
        "    root = tree.getroot()\n",
        "\n",
        "    # extract filename\n",
        "    image_name = root.find('filename').text\n",
        "    # width and height of the image\n",
        "    width = root.find('size').find('width').text\n",
        "    height = root.find('size').find('height').text\n",
        "    objs = root.findall('object')\n",
        "    parser = []\n",
        "    for obj in objs:\n",
        "        name = obj.find('name').text\n",
        "        bndbox = obj.find('bndbox')\n",
        "        xmin = bndbox.find('xmin').text\n",
        "        xmax = bndbox.find('xmax').text\n",
        "        ymin = bndbox.find('ymin').text\n",
        "        ymax = bndbox.find('ymax').text\n",
        "        parser.append([image_name, width, height, name,xmin,xmax,ymin,ymax])\n",
        "\n",
        "    return parser"
      ]
    },
    {
      "cell_type": "code",
      "execution_count": null,
      "id": "8a56e31b",
      "metadata": {
        "id": "8a56e31b"
      },
      "outputs": [],
      "source": [
        "parser_all = list(map(extract_text,xmlfiles))"
      ]
    },
    {
      "cell_type": "code",
      "execution_count": null,
      "id": "c638a326",
      "metadata": {
        "id": "c638a326"
      },
      "outputs": [],
      "source": [
        "data = reduce(lambda x, y : x+y,parser_all)"
      ]
    },
    {
      "cell_type": "code",
      "execution_count": null,
      "id": "5b48c0a7",
      "metadata": {
        "id": "5b48c0a7"
      },
      "outputs": [],
      "source": [
        "df = pd.DataFrame(data,columns = ['filename','width','height','name','xmin','xmax','ymin','ymax'])"
      ]
    },
    {
      "cell_type": "code",
      "execution_count": null,
      "id": "7129360a",
      "metadata": {
        "id": "7129360a"
      },
      "outputs": [],
      "source": [
        "df.head()"
      ]
    },
    {
      "cell_type": "code",
      "execution_count": null,
      "id": "f85e4ba4",
      "metadata": {
        "id": "f85e4ba4"
      },
      "outputs": [],
      "source": [
        "df.shape"
      ]
    },
    {
      "cell_type": "code",
      "execution_count": null,
      "id": "4c7549c4",
      "metadata": {
        "id": "4c7549c4"
      },
      "outputs": [],
      "source": [
        "df['name'].value_counts()"
      ]
    },
    {
      "cell_type": "markdown",
      "id": "1cb15854",
      "metadata": {
        "id": "1cb15854"
      },
      "source": [
        "#### Conversion\n",
        "![image-2.png](attachment:image-2.png)"
      ]
    },
    {
      "cell_type": "code",
      "execution_count": null,
      "id": "0d2ca3d1",
      "metadata": {
        "id": "0d2ca3d1"
      },
      "outputs": [],
      "source": [
        "df.info()"
      ]
    },
    {
      "cell_type": "code",
      "execution_count": null,
      "id": "66662853",
      "metadata": {
        "id": "66662853"
      },
      "outputs": [],
      "source": [
        "# type conversion\n",
        "cols = ['width','height','xmin','xmax','ymin','ymax']\n",
        "df[cols] = df[cols].astype(int)\n",
        "df.info()"
      ]
    },
    {
      "cell_type": "code",
      "execution_count": null,
      "id": "4bac6ec8",
      "metadata": {
        "id": "4bac6ec8"
      },
      "outputs": [],
      "source": [
        "# center x, center y\n",
        "df['center_x'] = ((df['xmax']+df['xmin'])/2)/df['width']\n",
        "df['center_y'] = ((df['ymax']+df['ymin'])/2)/df['height']\n",
        "# w\n",
        "df['w'] = (df['xmax']-df['xmin'])/df['width']\n",
        "# h\n",
        "df['h'] = (df['ymax']-df['ymin'])/df['height']"
      ]
    },
    {
      "cell_type": "code",
      "execution_count": null,
      "id": "8c88f35d",
      "metadata": {
        "id": "8c88f35d"
      },
      "outputs": [],
      "source": [
        "df.head()"
      ]
    },
    {
      "cell_type": "markdown",
      "id": "9a5fdf0b",
      "metadata": {
        "id": "9a5fdf0b"
      },
      "source": [
        "### split data into train and test"
      ]
    },
    {
      "cell_type": "code",
      "execution_count": null,
      "id": "34418a9f",
      "metadata": {
        "id": "34418a9f"
      },
      "outputs": [],
      "source": [
        "images = df['filename'].unique()"
      ]
    },
    {
      "cell_type": "code",
      "execution_count": null,
      "id": "97f2ac70",
      "metadata": {
        "id": "97f2ac70"
      },
      "outputs": [],
      "source": [
        "len(images)"
      ]
    },
    {
      "cell_type": "code",
      "execution_count": null,
      "id": "ae015555",
      "metadata": {
        "id": "ae015555"
      },
      "outputs": [],
      "source": [
        "# 80% train and 20% test\n",
        "img_df = pd.DataFrame(images,columns=['filename'])\n",
        "img_train = tuple(img_df.sample(frac=0.8)['filename']) # shuffle and pick 80% of images"
      ]
    },
    {
      "cell_type": "code",
      "execution_count": null,
      "id": "6afd160f",
      "metadata": {
        "id": "6afd160f"
      },
      "outputs": [],
      "source": [
        "img_test = tuple(img_df.query(f'filename not in {img_train}')['filename']) # take rest 20% images"
      ]
    },
    {
      "cell_type": "code",
      "execution_count": null,
      "id": "17febae7",
      "metadata": {
        "id": "17febae7"
      },
      "outputs": [],
      "source": [
        "len(img_train), len(img_test)"
      ]
    },
    {
      "cell_type": "code",
      "execution_count": null,
      "id": "f7f4614c",
      "metadata": {
        "id": "f7f4614c"
      },
      "outputs": [],
      "source": [
        "train_df = df.query(f'filename in {img_train}')\n",
        "test_df = df.query(f'filename in {img_test}')"
      ]
    },
    {
      "cell_type": "code",
      "execution_count": null,
      "id": "cf16e06f",
      "metadata": {
        "id": "cf16e06f"
      },
      "outputs": [],
      "source": [
        "train_df.head()"
      ]
    },
    {
      "cell_type": "code",
      "execution_count": null,
      "id": "e7fd6da5",
      "metadata": {
        "id": "e7fd6da5"
      },
      "outputs": [],
      "source": [
        "test_df.head()"
      ]
    },
    {
      "cell_type": "markdown",
      "id": "3ec8e06a",
      "metadata": {
        "id": "3ec8e06a"
      },
      "source": [
        "\n",
        "\n",
        "```\n",
        "# This is formatted as code\n",
        "```\n",
        "\n",
        "### Assign id number to object names"
      ]
    },
    {
      "cell_type": "code",
      "execution_count": null,
      "id": "f5663855",
      "metadata": {
        "id": "f5663855"
      },
      "outputs": [],
      "source": [
        "# label encoding\n",
        "def label_encoding(x):\n",
        "    labels = {'person':0, 'car':1, 'chair':2, 'bottle':3, 'pottedplant':4, 'bird':5, 'dog':6,\n",
        "       'sofa':7, 'bicycle':8, 'horse':9, 'boat':10, 'motorbike':11, 'cat':12, 'tvmonitor':13,\n",
        "       'cow':14, 'sheep':15, 'aeroplane':16, 'train':17, 'diningtable':18, 'bus':19}\n",
        "    return labels[x]"
      ]
    },
    {
      "cell_type": "code",
      "execution_count": null,
      "id": "8097e42b",
      "metadata": {
        "id": "8097e42b"
      },
      "outputs": [],
      "source": [
        "train_df['id'] = train_df['name'].apply(label_encoding)\n",
        "test_df['id'] = test_df['name'].apply(label_encoding)"
      ]
    },
    {
      "cell_type": "code",
      "execution_count": null,
      "id": "c478fd7d",
      "metadata": {
        "id": "c478fd7d"
      },
      "outputs": [],
      "source": [
        "train_df.head(10)"
      ]
    },
    {
      "cell_type": "markdown",
      "id": "30fe6661",
      "metadata": {
        "id": "30fe6661"
      },
      "source": [
        "### Save Image and Labels in text"
      ]
    },
    {
      "cell_type": "code",
      "execution_count": null,
      "id": "1b593e59",
      "metadata": {
        "id": "1b593e59"
      },
      "outputs": [],
      "source": [
        "import os\n",
        "from shutil import move"
      ]
    },
    {
      "cell_type": "code",
      "execution_count": null,
      "id": "c6202068",
      "metadata": {
        "id": "c6202068"
      },
      "outputs": [],
      "source": [
        "train_folder = 'data_images/train'\n",
        "test_folder = 'data_images/test'\n",
        "\n",
        "\n",
        "os.mkdir(train_folder)\n",
        "os.mkdir(test_folder)"
      ]
    },
    {
      "cell_type": "code",
      "execution_count": null,
      "id": "08369130",
      "metadata": {
        "id": "08369130"
      },
      "outputs": [],
      "source": [
        "cols = ['filename','id','center_x','center_y', 'w', 'h']\n",
        "groupby_obj_train = train_df[cols].groupby('filename')\n",
        "groupby_obj_test = test_df[cols].groupby('filename')"
      ]
    },
    {
      "cell_type": "code",
      "execution_count": null,
      "id": "5ffc04f3",
      "metadata": {
        "id": "5ffc04f3"
      },
      "outputs": [],
      "source": [
        "#groupby_obj_train.get_group('000009.jpg').set_index('filename').to_csv('sample.txt',index=False,header=False)\n",
        "# save each image in train/test folder and repective labels in .txt\n",
        "def save_data(filename, folder_path, group_obj):\n",
        "    # move image\n",
        "    src = os.path.join('data_images',filename)\n",
        "    dst = os.path.join(folder_path,filename)\n",
        "    move(src,dst) # move image to the destination folder\n",
        "\n",
        "    # save the labels\n",
        "    text_filename = os.path.join(folder_path,\n",
        "                                 os.path.splitext(filename)[0]+'.txt')\n",
        "    group_obj.get_group(filename).set_index('filename').to_csv(text_filename,sep=' ',index=False,header=False)\n"
      ]
    },
    {
      "cell_type": "code",
      "execution_count": null,
      "id": "6481e93d",
      "metadata": {
        "id": "6481e93d"
      },
      "outputs": [],
      "source": [
        "filename_series = pd.Series(groupby_obj_train.groups.keys())"
      ]
    },
    {
      "cell_type": "code",
      "execution_count": null,
      "id": "b132cf21",
      "metadata": {
        "id": "b132cf21"
      },
      "outputs": [],
      "source": [
        "filename_series.apply(save_data,args=(train_folder,groupby_obj_train))"
      ]
    },
    {
      "cell_type": "code",
      "execution_count": null,
      "id": "51f1f18e",
      "metadata": {
        "id": "51f1f18e"
      },
      "outputs": [],
      "source": []
    },
    {
      "cell_type": "code",
      "execution_count": null,
      "id": "b4ae7a09",
      "metadata": {
        "id": "b4ae7a09"
      },
      "outputs": [],
      "source": [
        "filename_series_test = pd.Series(groupby_obj_test.groups.keys())\n",
        "filename_series_test.apply(save_data,args=(test_folder,groupby_obj_test))"
      ]
    },
    {
      "cell_type": "code",
      "execution_count": null,
      "id": "d3bb9928",
      "metadata": {
        "id": "d3bb9928"
      },
      "outputs": [],
      "source": []
    },
    {
      "cell_type": "code",
      "execution_count": null,
      "id": "f525f7bf",
      "metadata": {
        "id": "f525f7bf"
      },
      "outputs": [],
      "source": []
    },
    {
      "cell_type": "code",
      "execution_count": null,
      "id": "ccf2ace1",
      "metadata": {
        "id": "ccf2ace1"
      },
      "outputs": [],
      "source": []
    },
    {
      "cell_type": "code",
      "execution_count": null,
      "id": "5ee3c30e",
      "metadata": {
        "id": "5ee3c30e"
      },
      "outputs": [],
      "source": []
    },
    {
      "cell_type": "code",
      "execution_count": null,
      "id": "9398b27e",
      "metadata": {
        "id": "9398b27e"
      },
      "outputs": [],
      "source": []
    },
    {
      "cell_type": "code",
      "execution_count": null,
      "id": "8d6c834a",
      "metadata": {
        "id": "8d6c834a"
      },
      "outputs": [],
      "source": []
    },
    {
      "cell_type": "code",
      "execution_count": null,
      "id": "296fe986",
      "metadata": {
        "id": "296fe986"
      },
      "outputs": [],
      "source": []
    },
    {
      "cell_type": "code",
      "execution_count": null,
      "id": "2fb89e8a",
      "metadata": {
        "id": "2fb89e8a"
      },
      "outputs": [],
      "source": []
    },
    {
      "cell_type": "code",
      "execution_count": null,
      "id": "d66fd254",
      "metadata": {
        "id": "d66fd254"
      },
      "outputs": [],
      "source": []
    },
    {
      "cell_type": "code",
      "execution_count": null,
      "id": "08f5e8f2",
      "metadata": {
        "id": "08f5e8f2"
      },
      "outputs": [],
      "source": []
    },
    {
      "cell_type": "code",
      "execution_count": null,
      "id": "967db8d8",
      "metadata": {
        "id": "967db8d8"
      },
      "outputs": [],
      "source": []
    }
  ],
  "metadata": {
    "kernelspec": {
      "display_name": "Python 3 (ipykernel)",
      "language": "python",
      "name": "python3"
    },
    "language_info": {
      "codemirror_mode": {
        "name": "ipython",
        "version": 3
      },
      "file_extension": ".py",
      "mimetype": "text/x-python",
      "name": "python",
      "nbconvert_exporter": "python",
      "pygments_lexer": "ipython3",
      "version": "3.9.10"
    },
    "colab": {
      "provenance": []
    }
  },
  "nbformat": 4,
  "nbformat_minor": 5
}