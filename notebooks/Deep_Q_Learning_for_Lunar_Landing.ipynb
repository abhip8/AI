{
  "cells": [
    {
      "cell_type": "markdown",
      "metadata": {
        "id": "LbZcI9ZXHl3a"
      },
      "source": [
        "# Deep Q-Learning for Lunar Landing"
      ]
    },
    {
      "cell_type": "markdown",
      "metadata": {
        "id": "E8yPRjteXgPb"
      },
      "source": [
        "## Part 0 - Installing the required packages and importing the libraries"
      ]
    },
    {
      "cell_type": "markdown",
      "metadata": {
        "id": "slEm5teGWjWU"
      },
      "source": [
        "### Installing Gymnasium"
      ]
    },
    {
      "cell_type": "code",
      "execution_count": null,
      "metadata": {
        "id": "dbnq3XpoKa_7",
        "colab": {
          "base_uri": "https://localhost:8080/"
        },
        "outputId": "1aff43e9-1b22-4619-855b-7ff075835ac1"
      },
      "outputs": [
        {
          "output_type": "stream",
          "name": "stdout",
          "text": [
            "Requirement already satisfied: gymnasium in /usr/local/lib/python3.11/dist-packages (1.2.0)\n",
            "Requirement already satisfied: numpy>=1.21.0 in /usr/local/lib/python3.11/dist-packages (from gymnasium) (2.0.2)\n",
            "Requirement already satisfied: cloudpickle>=1.2.0 in /usr/local/lib/python3.11/dist-packages (from gymnasium) (3.1.1)\n",
            "Requirement already satisfied: typing-extensions>=4.3.0 in /usr/local/lib/python3.11/dist-packages (from gymnasium) (4.14.1)\n",
            "Requirement already satisfied: farama-notifications>=0.0.1 in /usr/local/lib/python3.11/dist-packages (from gymnasium) (0.0.4)\n",
            "Requirement already satisfied: gymnasium[accept-rom-license,atari] in /usr/local/lib/python3.11/dist-packages (1.2.0)\n",
            "\u001b[33mWARNING: gymnasium 1.2.0 does not provide the extra 'accept-rom-license'\u001b[0m\u001b[33m\n",
            "\u001b[0mRequirement already satisfied: numpy>=1.21.0 in /usr/local/lib/python3.11/dist-packages (from gymnasium[accept-rom-license,atari]) (2.0.2)\n",
            "Requirement already satisfied: cloudpickle>=1.2.0 in /usr/local/lib/python3.11/dist-packages (from gymnasium[accept-rom-license,atari]) (3.1.1)\n",
            "Requirement already satisfied: typing-extensions>=4.3.0 in /usr/local/lib/python3.11/dist-packages (from gymnasium[accept-rom-license,atari]) (4.14.1)\n",
            "Requirement already satisfied: farama-notifications>=0.0.1 in /usr/local/lib/python3.11/dist-packages (from gymnasium[accept-rom-license,atari]) (0.0.4)\n",
            "Requirement already satisfied: ale_py>=0.9 in /usr/local/lib/python3.11/dist-packages (from gymnasium[accept-rom-license,atari]) (0.11.2)\n",
            "Reading package lists... Done\n",
            "Building dependency tree... Done\n",
            "Reading state information... Done\n",
            "The following additional packages will be installed:\n",
            "  swig4.0\n",
            "Suggested packages:\n",
            "  swig-doc swig-examples swig4.0-examples swig4.0-doc\n",
            "The following NEW packages will be installed:\n",
            "  swig swig4.0\n",
            "0 upgraded, 2 newly installed, 0 to remove and 35 not upgraded.\n",
            "Need to get 1,116 kB of archives.\n",
            "After this operation, 5,542 kB of additional disk space will be used.\n",
            "Get:1 http://archive.ubuntu.com/ubuntu jammy/universe amd64 swig4.0 amd64 4.0.2-1ubuntu1 [1,110 kB]\n",
            "Get:2 http://archive.ubuntu.com/ubuntu jammy/universe amd64 swig all 4.0.2-1ubuntu1 [5,632 B]\n",
            "Fetched 1,116 kB in 1s (1,209 kB/s)\n",
            "Selecting previously unselected package swig4.0.\n",
            "(Reading database ... 126281 files and directories currently installed.)\n",
            "Preparing to unpack .../swig4.0_4.0.2-1ubuntu1_amd64.deb ...\n",
            "Unpacking swig4.0 (4.0.2-1ubuntu1) ...\n",
            "Selecting previously unselected package swig.\n",
            "Preparing to unpack .../swig_4.0.2-1ubuntu1_all.deb ...\n",
            "Unpacking swig (4.0.2-1ubuntu1) ...\n",
            "Setting up swig4.0 (4.0.2-1ubuntu1) ...\n",
            "Setting up swig (4.0.2-1ubuntu1) ...\n",
            "Processing triggers for man-db (2.10.2-1) ...\n",
            "Requirement already satisfied: gymnasium[box2d] in /usr/local/lib/python3.11/dist-packages (1.2.0)\n",
            "Requirement already satisfied: numpy>=1.21.0 in /usr/local/lib/python3.11/dist-packages (from gymnasium[box2d]) (2.0.2)\n",
            "Requirement already satisfied: cloudpickle>=1.2.0 in /usr/local/lib/python3.11/dist-packages (from gymnasium[box2d]) (3.1.1)\n",
            "Requirement already satisfied: typing-extensions>=4.3.0 in /usr/local/lib/python3.11/dist-packages (from gymnasium[box2d]) (4.14.1)\n",
            "Requirement already satisfied: farama-notifications>=0.0.1 in /usr/local/lib/python3.11/dist-packages (from gymnasium[box2d]) (0.0.4)\n",
            "Collecting box2d-py==2.3.5 (from gymnasium[box2d])\n",
            "  Downloading box2d-py-2.3.5.tar.gz (374 kB)\n",
            "\u001b[2K     \u001b[90m━━━━━━━━━━━━━━━━━━━━━━━━━━━━━━━━━━━━━━━\u001b[0m \u001b[32m374.4/374.4 kB\u001b[0m \u001b[31m6.2 MB/s\u001b[0m eta \u001b[36m0:00:00\u001b[0m\n",
            "\u001b[?25h  Preparing metadata (setup.py) ... \u001b[?25l\u001b[?25hdone\n",
            "Requirement already satisfied: pygame>=2.1.3 in /usr/local/lib/python3.11/dist-packages (from gymnasium[box2d]) (2.6.1)\n",
            "Collecting swig==4.* (from gymnasium[box2d])\n",
            "  Downloading swig-4.3.1-py3-none-manylinux_2_12_x86_64.manylinux2010_x86_64.whl.metadata (3.5 kB)\n",
            "Downloading swig-4.3.1-py3-none-manylinux_2_12_x86_64.manylinux2010_x86_64.whl (1.9 MB)\n",
            "\u001b[2K   \u001b[90m━━━━━━━━━━━━━━━━━━━━━━━━━━━━━━━━━━━━━━━━\u001b[0m \u001b[32m1.9/1.9 MB\u001b[0m \u001b[31m43.5 MB/s\u001b[0m eta \u001b[36m0:00:00\u001b[0m\n",
            "\u001b[?25hBuilding wheels for collected packages: box2d-py\n",
            "  Building wheel for box2d-py (setup.py) ... \u001b[?25l\u001b[?25hdone\n",
            "  Created wheel for box2d-py: filename=box2d_py-2.3.5-cp311-cp311-linux_x86_64.whl size=2351187 sha256=204526e6c9e8248110982ad2056e2515e9aa654d626f7b78781f66194c730a5d\n",
            "  Stored in directory: /root/.cache/pip/wheels/ab/f1/0c/d56f4a2bdd12bae0a0693ec33f2f0daadb5eb9753c78fa5308\n",
            "Successfully built box2d-py\n",
            "Installing collected packages: swig, box2d-py\n",
            "Successfully installed box2d-py-2.3.5 swig-4.3.1\n"
          ]
        }
      ],
      "source": [
        "!pip install gymnasium\n",
        "!pip install \"gymnasium[atari, accept-rom-license]\"\n",
        "!apt-get install -y swig\n",
        "!pip install gymnasium[box2d]"
      ]
    },
    {
      "cell_type": "markdown",
      "metadata": {
        "id": "brqiMN3UW9T9"
      },
      "source": [
        "### Importing the libraries"
      ]
    },
    {
      "cell_type": "code",
      "execution_count": null,
      "metadata": {
        "id": "mZaKXP_aMl9O"
      },
      "outputs": [],
      "source": [
        "import os\n",
        "import random\n",
        "import numpy as np\n",
        "import torch\n",
        "import torch.nn as nn\n",
        "import torch.optim as optim\n",
        "import torch.nn.functional as F\n",
        "import torch.autograd as autograd\n",
        "from torch.autograd import Variable\n",
        "from collections import deque, namedtuple"
      ]
    },
    {
      "cell_type": "markdown",
      "metadata": {
        "id": "EzlDKXvkXzGI"
      },
      "source": [
        "## Part 1 - Building the AI"
      ]
    },
    {
      "cell_type": "markdown",
      "metadata": {
        "id": "UtG6Zc83YYy3"
      },
      "source": [
        "### Creating the architecture of the Neural Network"
      ]
    },
    {
      "cell_type": "code",
      "source": [
        "class Network(nn.Module):\n",
        "\n",
        "  def __init__(self, state_size, action_size, seed = 42) -> None:\n",
        "      super(Network, self).__init__()\n",
        "      self.seed = torch.manual_seed(seed)\n",
        "      self.fc1 = nn.Linear(state_size, 64)\n",
        "      self.fc2 = nn.Linear(64, 64)\n",
        "      self.fc3 = nn.Linear(64, action_size)\n",
        "\n",
        "  def forward(self, state):\n",
        "      x = self.fc1(state)\n",
        "      x = F.relu(x)\n",
        "      x = self.fc2(x)\n",
        "      x = F.relu(x)\n",
        "      return self.fc3(x)"
      ],
      "metadata": {
        "id": "4lnjV6oS-0jH"
      },
      "execution_count": null,
      "outputs": []
    },
    {
      "cell_type": "markdown",
      "metadata": {
        "id": "UxVrBnFWZKb1"
      },
      "source": [
        "## Part 2 - Training the AI"
      ]
    },
    {
      "cell_type": "markdown",
      "metadata": {
        "id": "T364fz9qZb2j"
      },
      "source": [
        "### Setting up the environment"
      ]
    },
    {
      "cell_type": "code",
      "source": [
        "import gymnasium as gym\n",
        "env = gym.make('LunarLander-v3') # The Lunar Lander environment was upgraded to v3\n",
        "state_shape = env.observation_space.shape\n",
        "state_size = env.observation_space.shape[0]\n",
        "number_actions = env.action_space.n\n",
        "print('State shape: ', state_shape)\n",
        "print('State size: ', state_size)\n",
        "print('Number of actions: ', number_actions)"
      ],
      "metadata": {
        "id": "41sgnpCwtd5f",
        "colab": {
          "base_uri": "https://localhost:8080/"
        },
        "outputId": "373bb210-9e92-45dc-b73a-0dc2a6b9cd0a"
      },
      "execution_count": null,
      "outputs": [
        {
          "output_type": "stream",
          "name": "stdout",
          "text": [
            "State shape:  (8,)\n",
            "State size:  8\n",
            "Number of actions:  4\n"
          ]
        }
      ]
    },
    {
      "cell_type": "markdown",
      "metadata": {
        "id": "c_dZmOIvZgj-"
      },
      "source": [
        "### Initializing the hyperparameters"
      ]
    },
    {
      "cell_type": "code",
      "source": [
        "learning_rate = 5e-4\n",
        "minibatch_size = 100\n",
        "discount_factor = 0.99\n",
        "replay_buffer_size = int(1e5)\n",
        "interpolation_parameter = 1e-3"
      ],
      "metadata": {
        "id": "dfYUZlDOFohh"
      },
      "execution_count": null,
      "outputs": []
    },
    {
      "cell_type": "markdown",
      "metadata": {
        "id": "8hD_Vs-bYnip"
      },
      "source": [
        "### Implementing Experience Replay"
      ]
    },
    {
      "cell_type": "code",
      "source": [
        "class ReplayMemory(object):\n",
        "\n",
        "  def __init__(self, capacity):\n",
        "    self.device = torch.device(\"cuda:0\" if torch.cuda.is_available() else \"cpu\")\n",
        "    self.capacity = capacity\n",
        "    self.memory = []\n",
        "\n",
        "  def push(self, event):\n",
        "    self.memory.append(event)\n",
        "    if len(self.memory) > self.capacity:\n",
        "      del self.memory[0]\n",
        "\n",
        "  def sample(self, batch_size):\n",
        "    experiences = random.sample(self.memory, k = batch_size)\n",
        "    states = torch.from_numpy(np.vstack([e[0] for e in experiences if e is not None])).float().to(self.device)\n",
        "    actions = torch.from_numpy(np.vstack([e[1] for e in experiences if e is not None])).long().to(self.device)\n",
        "    rewards = torch.from_numpy(np.vstack([e[2] for e in experiences if e is not None])).float().to(self.device)\n",
        "    next_states = torch.from_numpy(np.vstack([e[3] for e in experiences if e is not None])).float().to(self.device)\n",
        "    dones = torch.from_numpy(np.vstack([e[4] for e in experiences if e is not None]).astype(np.uint8)).float().to(self.device)\n",
        "    return states, next_states, actions, rewards, dones"
      ],
      "metadata": {
        "id": "izA24ov7HKmp"
      },
      "execution_count": null,
      "outputs": []
    },
    {
      "cell_type": "markdown",
      "metadata": {
        "id": "JmEkbFbUY6Jt"
      },
      "source": [
        "### Implementing the DQN class"
      ]
    },
    {
      "cell_type": "code",
      "source": [
        "class Agent():\n",
        "\n",
        "  def __init__(self, state_size, action_size):\n",
        "    self.device = torch.device(\"cuda:0\" if torch.cuda.is_available() else \"cpu\")\n",
        "    self.state_size = state_size\n",
        "    self.action_size = action_size\n",
        "    self.local_qnetwork = Network(state_size, action_size).to(self.device)\n",
        "    self.target_qnetwork = Network(state_size, action_size).to(self.device)\n",
        "    self.optimizer = optim.Adam(self.local_qnetwork.parameters(), lr = learning_rate)\n",
        "    self.memory = ReplayMemory(replay_buffer_size)\n",
        "    self.t_step = 0\n",
        "\n",
        "  def step(self, state, action, reward, next_state, done):\n",
        "    self.memory.push((state, action, reward, next_state, done))\n",
        "    self.t_step = (self.t_step + 1) % 4\n",
        "    if self.t_step == 0:\n",
        "      if len(self.memory.memory) > minibatch_size:\n",
        "        experiences = self.memory.sample(100)\n",
        "        self.learn(experiences, discount_factor)\n",
        "\n",
        "  def act(self, state, epsilon = 0.):\n",
        "    state = torch.from_numpy(state).float().unsqueeze(0).to(self.device)\n",
        "    self.local_qnetwork.eval()\n",
        "    with torch.no_grad():\n",
        "      action_values = self.local_qnetwork(state)\n",
        "    self.local_qnetwork.train()\n",
        "    if random.random() > epsilon:\n",
        "      return np.argmax(action_values.cpu().data.numpy())\n",
        "    else:\n",
        "      return random.choice(np.arange(self.action_size))\n",
        "\n",
        "  def learn(self, experiences, discount_factor):\n",
        "    states, next_states, actions, rewards, dones = experiences\n",
        "    next_q_targets = self.target_qnetwork(next_states).detach().max(1)[0].unsqueeze(1)\n",
        "    q_targets = rewards + discount_factor * next_q_targets * (1 - dones)\n",
        "    q_expected = self.local_qnetwork(states).gather(1, actions)\n",
        "    loss = F.mse_loss(q_expected, q_targets)\n",
        "    self.optimizer.zero_grad()\n",
        "    loss.backward()\n",
        "    self.optimizer.step()\n",
        "    self.soft_update(self.local_qnetwork, self.target_qnetwork, interpolation_parameter)\n",
        "\n",
        "  def soft_update(self, local_model, target_model, interpolation_parameter):\n",
        "    for target_param, local_param in zip(target_model.parameters(), local_model.parameters()):\n",
        "      target_param.data.copy_(interpolation_parameter * local_param.data + (1.0 - interpolation_parameter) * target_param.data)"
      ],
      "metadata": {
        "id": "oDjYMUQUJ8rt"
      },
      "execution_count": null,
      "outputs": []
    },
    {
      "cell_type": "markdown",
      "metadata": {
        "id": "o1tZElccZmf6"
      },
      "source": [
        "### Initializing the DQN agent"
      ]
    },
    {
      "cell_type": "code",
      "source": [
        "agent = Agent(state_size, number_actions)"
      ],
      "metadata": {
        "id": "jqSpMTaAKNYt"
      },
      "execution_count": null,
      "outputs": []
    },
    {
      "cell_type": "markdown",
      "metadata": {
        "id": "E8v0PtUfaVQp"
      },
      "source": [
        "### Training the DQN agent"
      ]
    },
    {
      "cell_type": "code",
      "source": [
        "number_episodes = 2000\n",
        "maximum_number_timesteps_per_episode = 1000\n",
        "epsilon_starting_value  = 1.0\n",
        "epsilon_ending_value  = 0.01\n",
        "epsilon_decay_value  = 0.995\n",
        "epsilon = epsilon_starting_value\n",
        "scores_on_100_episodes = deque(maxlen = 100)\n",
        "\n",
        "for episode in range(1, number_episodes + 1):\n",
        "  state, _ = env.reset()\n",
        "  score = 0\n",
        "  for t in range(maximum_number_timesteps_per_episode):\n",
        "    action = agent.act(state, epsilon)\n",
        "    next_state, reward, done, _, _ = env.step(action)\n",
        "    agent.step(state, action, reward, next_state, done)\n",
        "    state = next_state\n",
        "    score += reward\n",
        "    if done:\n",
        "      break\n",
        "  scores_on_100_episodes.append(score)\n",
        "  epsilon = max(epsilon_ending_value, epsilon_decay_value * epsilon)\n",
        "  print('\\rEpisode {}\\tAverage Score: {:.2f}'.format(episode, np.mean(scores_on_100_episodes)), end = \"\")\n",
        "  if episode % 100 == 0:\n",
        "    print('\\rEpisode {}\\tAverage Score: {:.2f}'.format(episode, np.mean(scores_on_100_episodes)))\n",
        "  if np.mean(scores_on_100_episodes) >= 200.0:\n",
        "    print('\\nEnvironment solved in {:d} episodes!\\tAverage Score: {:.2f}'.format(episode - 100, np.mean(scores_on_100_episodes)))\n",
        "    torch.save(agent.local_qnetwork.state_dict(), 'checkpoint.pth')\n",
        "    break"
      ],
      "metadata": {
        "colab": {
          "base_uri": "https://localhost:8080/"
        },
        "id": "3ecuAv0PKT1e",
        "outputId": "56c29ff6-d3b7-4046-dabf-655cc10eb20c"
      },
      "execution_count": null,
      "outputs": [
        {
          "output_type": "stream",
          "name": "stdout",
          "text": [
            "Episode 100\tAverage Score: -96.57\n",
            "Episode 200\tAverage Score: -31.11\n",
            "Episode 300\tAverage Score: -18.56\n",
            "Episode 400\tAverage Score: 53.76\n",
            "Episode 500\tAverage Score: 173.39\n",
            "Episode 524\tAverage Score: 200.97\n",
            "Environment solved in 424 episodes!\tAverage Score: 200.97\n"
          ]
        }
      ]
    },
    {
      "cell_type": "markdown",
      "metadata": {
        "id": "O8CNwdOTcCoP"
      },
      "source": [
        "## Part 3 - Visualizing the results"
      ]
    },
    {
      "cell_type": "code",
      "execution_count": null,
      "metadata": {
        "id": "cb9nVvU2Okhk",
        "colab": {
          "base_uri": "https://localhost:8080/",
          "height": 458
        },
        "outputId": "3e5bc7f0-528b-42f6-efa1-5109a31337c5"
      },
      "outputs": [
        {
          "output_type": "stream",
          "name": "stderr",
          "text": [
            "WARNING:imageio_ffmpeg:IMAGEIO FFMPEG_WRITER WARNING: input image is not divisible by macro_block_size=16, resizing from (600, 400) to (608, 400) to ensure video compatibility with most codecs and players. To prevent resizing, make your input image divisible by the macro_block_size or set the macro_block_size to 1 (risking incompatibility).\n"
          ]
        },
        {
          "output_type": "display_data",
          "data": {
            "text/plain": [
              "<IPython.core.display.HTML object>"
            ],
            "text/html": [
              "<video alt=\"test\" autoplay\n",
              "                loop controls style=\"height: 400px;\">\n",
              "                <source src=\"data:video/mp4;base64,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\" type=\"video/mp4\" />\n",
              "             </video>"
            ]
          },
          "metadata": {}
        }
      ],
      "source": [
        "import glob\n",
        "import io\n",
        "import base64\n",
        "import imageio\n",
        "from IPython.display import HTML, display\n",
        "\n",
        "def show_video_of_model(agent, env_name):\n",
        "    env = gym.make(env_name, render_mode='rgb_array')\n",
        "    state, _ = env.reset()\n",
        "    done = False\n",
        "    frames = []\n",
        "    while not done:\n",
        "        frame = env.render()\n",
        "        frames.append(frame)\n",
        "        action = agent.act(state)\n",
        "        state, reward, done, _, _ = env.step(action.item())\n",
        "    env.close()\n",
        "    imageio.mimsave('video.mp4', frames, fps=30)\n",
        "\n",
        "show_video_of_model(agent, 'LunarLander-v3')\n",
        "\n",
        "def show_video():\n",
        "    mp4list = glob.glob('*.mp4')\n",
        "    if len(mp4list) > 0:\n",
        "        mp4 = mp4list[0]\n",
        "        video = io.open(mp4, 'r+b').read()\n",
        "        encoded = base64.b64encode(video)\n",
        "        display(HTML(data='''<video alt=\"test\" autoplay\n",
        "                loop controls style=\"height: 400px;\">\n",
        "                <source src=\"data:video/mp4;base64,{0}\" type=\"video/mp4\" />\n",
        "             </video>'''.format(encoded.decode('ascii'))))\n",
        "    else:\n",
        "        print(\"Could not find video\")\n",
        "\n",
        "show_video()"
      ]
    }
  ],
  "metadata": {
    "colab": {
      "provenance": []
    },
    "kernelspec": {
      "display_name": "Python 3",
      "name": "python3"
    },
    "language_info": {
      "name": "python"
    }
  },
  "nbformat": 4,
  "nbformat_minor": 0
}