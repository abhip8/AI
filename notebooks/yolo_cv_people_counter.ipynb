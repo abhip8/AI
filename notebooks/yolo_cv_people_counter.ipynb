{
  "cells": [
    {
      "cell_type": "code",
      "execution_count": null,
      "metadata": {
        "id": "rs6-4dC8SKZH"
      },
      "outputs": [],
      "source": [
        "!pip install ultralytics opencv-python-headless"
      ]
    },
    {
      "cell_type": "markdown",
      "metadata": {
        "id": "nX2HGVd2SarU"
      },
      "source": [
        "🧠 **Detect and count people**\n"
      ]
    },
    {
      "cell_type": "code",
      "execution_count": null,
      "metadata": {
        "id": "tngnfqg_SeGl"
      },
      "outputs": [],
      "source": [
        "# Step 3: Import libs and define processing function\n",
        "import cv2\n",
        "from ultralytics import YOLO\n",
        "from google.colab.patches import cv2_imshow\n",
        "import csv\n",
        "\n",
        "# Load YOLOv8n model\n",
        "model = YOLO('yolo11n.pt')\n",
        "\n",
        "# Variables to track people and logging\n",
        "seen_ids = set()\n",
        "id_log = {}\n",
        "\n",
        "def process_video(input_path):\n",
        "    cap = cv2.VideoCapture(input_path)\n",
        "    frame_count = 0\n",
        "    total_unique_people = 0\n",
        "\n",
        "    while cap.isOpened():\n",
        "        ret, frame = cap.read()\n",
        "        if not ret:\n",
        "            break\n",
        "\n",
        "        # Object tracking with YOLOv8\n",
        "        results = model.track(\n",
        "            source=frame,\n",
        "            persist=True,\n",
        "            stream=False,\n",
        "            verbose=False,\n",
        "            classes=[0]  # Detect only persons\n",
        "        )\n",
        "\n",
        "        # Draw boxes, count people, and log IDs\n",
        "        if results and results[0].boxes.id is not None:\n",
        "            for box in results[0].boxes:\n",
        "                class_id = int(box.cls)\n",
        "                label = results[0].names[class_id]\n",
        "\n",
        "                if label == 'person':\n",
        "                    track_id = int(box.id)\n",
        "                    if track_id not in seen_ids:\n",
        "                        seen_ids.add(track_id)\n",
        "                        total_unique_people += 1\n",
        "                        id_log[track_id] = frame_count\n",
        "\n",
        "                    # Draw bounding box and label with track ID\n",
        "                    x1, y1, x2, y2 = map(int, box.xyxy[0])\n",
        "                    color = (0, 255, 0)\n",
        "                    cv2.rectangle(frame, (x1, y1), (x2, y2), color, 2)\n",
        "                    cv2.putText(frame, f\"{label} ID:{track_id}\", (x1, y1 - 10),\n",
        "                                cv2.FONT_HERSHEY_SIMPLEX, 0.7, color, 2)\n",
        "\n",
        "        # Display frame every 30 frames\n",
        "        if frame_count % 30 == 0:\n",
        "            print(f\"Frame {frame_count}, Unique people so far: {total_unique_people}\")\n",
        "            cv2_imshow(frame)\n",
        "\n",
        "        frame_count += 1\n",
        "\n",
        "    cap.release()\n",
        "\n",
        "    print(f\"\\n✅ Final Count of Unique People: {total_unique_people}\")\n",
        "\n",
        "    # Save log to CSV\n",
        "    # with open(\"people_id_log.csv\", \"w\", newline=\"\") as csvfile:\n",
        "    #     writer = csv.writer(csvfile)\n",
        "    #     writer.writerow([\"Track ID\", \"First Detected Frame\"])\n",
        "    #     for tid, first_frame in sorted(id_log.items()):\n",
        "    #         writer.writerow([tid, first_frame])\n",
        "\n",
        "    # print(\"📄 'people_id_log.csv' has been saved.\")\n"
      ]
    },
    {
      "cell_type": "markdown",
      "metadata": {
        "id": "ym9ZSDn8UIpI"
      },
      "source": [
        "Step 5: Run the processing"
      ]
    },
    {
      "cell_type": "code",
      "execution_count": null,
      "metadata": {
        "id": "nv8ugB7CSTYI"
      },
      "outputs": [],
      "source": [
        "# Step 2: Upload video file\n",
        "from google.colab import files\n",
        "uploaded = files.upload()\n",
        "input_path = list(uploaded.keys())[0]"
      ]
    },
    {
      "cell_type": "code",
      "execution_count": null,
      "metadata": {
        "id": "iSJZkgOyUJwt"
      },
      "outputs": [],
      "source": [
        "# Step 4: Run the processing\n",
        "process_video(input_path)"
      ]
    }
  ],
  "metadata": {
    "accelerator": "GPU",
    "colab": {
      "gpuType": "A100",
      "machine_shape": "hm",
      "provenance": [],
      "authorship_tag": "ABX9TyMR4li6/r6ClZcy+NM0BLL9"
    },
    "kernelspec": {
      "display_name": "Python 3",
      "name": "python3"
    },
    "language_info": {
      "name": "python"
    }
  },
  "nbformat": 4,
  "nbformat_minor": 0
}